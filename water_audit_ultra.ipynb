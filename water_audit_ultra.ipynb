{
 "cells": [
  {
   "cell_type": "code",
   "execution_count": 32,
   "metadata": {},
   "outputs": [],
   "source": [
    "import numpy as np\n",
    "import matplotlib.pyplot as plt\n",
    "import pandas as pd\n",
    "import datetime"
   ]
  },
  {
   "cell_type": "code",
   "execution_count": 187,
   "metadata": {},
   "outputs": [],
   "source": [
    "data=pd.read_excel(\"water_audit_ultra.xls\")"
   ]
  },
  {
   "cell_type": "code",
   "execution_count": 190,
   "metadata": {},
   "outputs": [],
   "source": [
    "data['Time']=pd.to_datetime(data['Time'],format=r\"%H:%M:%S\")"
   ]
  },
  {
   "cell_type": "code",
   "execution_count": 192,
   "metadata": {},
   "outputs": [],
   "source": [
    "import datetime as dt\n",
    "data['Time']=data['Time']+(dt.date(2023,11,9)-dt.date(1900,1,1))"
   ]
  },
  {
   "cell_type": "code",
   "execution_count": 193,
   "metadata": {},
   "outputs": [
    {
     "data": {
      "text/html": [
       "<div>\n",
       "<style scoped>\n",
       "    .dataframe tbody tr th:only-of-type {\n",
       "        vertical-align: middle;\n",
       "    }\n",
       "\n",
       "    .dataframe tbody tr th {\n",
       "        vertical-align: top;\n",
       "    }\n",
       "\n",
       "    .dataframe thead th {\n",
       "        text-align: right;\n",
       "    }\n",
       "</style>\n",
       "<table border=\"1\" class=\"dataframe\">\n",
       "  <thead>\n",
       "    <tr style=\"text-align: right;\">\n",
       "      <th></th>\n",
       "      <th>Time</th>\n",
       "      <th>Distance_tank3</th>\n",
       "      <th>Distance_tank2</th>\n",
       "      <th>Distance_tank1</th>\n",
       "      <th>Distance_tank4</th>\n",
       "      <th>Tank1</th>\n",
       "      <th>Tank2</th>\n",
       "      <th>Tank3</th>\n",
       "      <th>Tank4</th>\n",
       "      <th>Level_1</th>\n",
       "      <th>Level_2</th>\n",
       "      <th>Level_3</th>\n",
       "      <th>Level_4</th>\n",
       "    </tr>\n",
       "  </thead>\n",
       "  <tbody>\n",
       "    <tr>\n",
       "      <th>0</th>\n",
       "      <td>2023-11-09 17:00:00</td>\n",
       "      <td>667.80</td>\n",
       "      <td>667.75</td>\n",
       "      <td>27.03</td>\n",
       "      <td>26.17</td>\n",
       "      <td>NaN</td>\n",
       "      <td>667.75</td>\n",
       "      <td>667.8</td>\n",
       "      <td>NaN</td>\n",
       "      <td>NaN</td>\n",
       "      <td>-43162.700</td>\n",
       "      <td>-18572.6112</td>\n",
       "      <td>NaN</td>\n",
       "    </tr>\n",
       "    <tr>\n",
       "      <th>1</th>\n",
       "      <td>2023-11-09 17:01:00</td>\n",
       "      <td>34.45</td>\n",
       "      <td>667.73</td>\n",
       "      <td>26.58</td>\n",
       "      <td>26.17</td>\n",
       "      <td>NaN</td>\n",
       "      <td>667.73</td>\n",
       "      <td>NaN</td>\n",
       "      <td>NaN</td>\n",
       "      <td>NaN</td>\n",
       "      <td>-43161.124</td>\n",
       "      <td>NaN</td>\n",
       "      <td>NaN</td>\n",
       "    </tr>\n",
       "    <tr>\n",
       "      <th>2</th>\n",
       "      <td>2023-11-09 17:02:00</td>\n",
       "      <td>25.97</td>\n",
       "      <td>667.78</td>\n",
       "      <td>200.36</td>\n",
       "      <td>26.04</td>\n",
       "      <td>200.36</td>\n",
       "      <td>667.78</td>\n",
       "      <td>NaN</td>\n",
       "      <td>NaN</td>\n",
       "      <td>-11751.8464</td>\n",
       "      <td>-43165.064</td>\n",
       "      <td>NaN</td>\n",
       "      <td>NaN</td>\n",
       "    </tr>\n",
       "    <tr>\n",
       "      <th>3</th>\n",
       "      <td>2023-11-09 17:03:00</td>\n",
       "      <td>26.32</td>\n",
       "      <td>667.78</td>\n",
       "      <td>200.81</td>\n",
       "      <td>26.04</td>\n",
       "      <td>200.81</td>\n",
       "      <td>667.78</td>\n",
       "      <td>NaN</td>\n",
       "      <td>NaN</td>\n",
       "      <td>-11817.6544</td>\n",
       "      <td>-43165.064</td>\n",
       "      <td>NaN</td>\n",
       "      <td>NaN</td>\n",
       "    </tr>\n",
       "    <tr>\n",
       "      <th>4</th>\n",
       "      <td>2023-11-09 17:04:00</td>\n",
       "      <td>26.35</td>\n",
       "      <td>667.78</td>\n",
       "      <td>200.72</td>\n",
       "      <td>26.04</td>\n",
       "      <td>200.72</td>\n",
       "      <td>667.78</td>\n",
       "      <td>NaN</td>\n",
       "      <td>NaN</td>\n",
       "      <td>-11804.4928</td>\n",
       "      <td>-43165.064</td>\n",
       "      <td>NaN</td>\n",
       "      <td>NaN</td>\n",
       "    </tr>\n",
       "    <tr>\n",
       "      <th>...</th>\n",
       "      <td>...</td>\n",
       "      <td>...</td>\n",
       "      <td>...</td>\n",
       "      <td>...</td>\n",
       "      <td>...</td>\n",
       "      <td>...</td>\n",
       "      <td>...</td>\n",
       "      <td>...</td>\n",
       "      <td>...</td>\n",
       "      <td>...</td>\n",
       "      <td>...</td>\n",
       "      <td>...</td>\n",
       "      <td>...</td>\n",
       "    </tr>\n",
       "    <tr>\n",
       "      <th>8234</th>\n",
       "      <td>NaT</td>\n",
       "      <td>NaN</td>\n",
       "      <td>NaN</td>\n",
       "      <td>27.39</td>\n",
       "      <td>26.17</td>\n",
       "      <td>NaN</td>\n",
       "      <td>NaN</td>\n",
       "      <td>NaN</td>\n",
       "      <td>NaN</td>\n",
       "      <td>NaN</td>\n",
       "      <td>NaN</td>\n",
       "      <td>NaN</td>\n",
       "      <td>NaN</td>\n",
       "    </tr>\n",
       "    <tr>\n",
       "      <th>8235</th>\n",
       "      <td>NaT</td>\n",
       "      <td>NaN</td>\n",
       "      <td>NaN</td>\n",
       "      <td>3.25</td>\n",
       "      <td>27.58</td>\n",
       "      <td>NaN</td>\n",
       "      <td>NaN</td>\n",
       "      <td>NaN</td>\n",
       "      <td>NaN</td>\n",
       "      <td>NaN</td>\n",
       "      <td>NaN</td>\n",
       "      <td>NaN</td>\n",
       "      <td>NaN</td>\n",
       "    </tr>\n",
       "    <tr>\n",
       "      <th>8236</th>\n",
       "      <td>NaT</td>\n",
       "      <td>NaN</td>\n",
       "      <td>NaN</td>\n",
       "      <td>NaN</td>\n",
       "      <td>27.39</td>\n",
       "      <td>NaN</td>\n",
       "      <td>NaN</td>\n",
       "      <td>NaN</td>\n",
       "      <td>NaN</td>\n",
       "      <td>NaN</td>\n",
       "      <td>NaN</td>\n",
       "      <td>NaN</td>\n",
       "      <td>NaN</td>\n",
       "    </tr>\n",
       "    <tr>\n",
       "      <th>8237</th>\n",
       "      <td>NaT</td>\n",
       "      <td>NaN</td>\n",
       "      <td>NaN</td>\n",
       "      <td>NaN</td>\n",
       "      <td>27.39</td>\n",
       "      <td>NaN</td>\n",
       "      <td>NaN</td>\n",
       "      <td>NaN</td>\n",
       "      <td>NaN</td>\n",
       "      <td>NaN</td>\n",
       "      <td>NaN</td>\n",
       "      <td>NaN</td>\n",
       "      <td>NaN</td>\n",
       "    </tr>\n",
       "    <tr>\n",
       "      <th>8238</th>\n",
       "      <td>NaT</td>\n",
       "      <td>NaN</td>\n",
       "      <td>NaN</td>\n",
       "      <td>NaN</td>\n",
       "      <td>3.25</td>\n",
       "      <td>NaN</td>\n",
       "      <td>NaN</td>\n",
       "      <td>NaN</td>\n",
       "      <td>NaN</td>\n",
       "      <td>NaN</td>\n",
       "      <td>NaN</td>\n",
       "      <td>NaN</td>\n",
       "      <td>NaN</td>\n",
       "    </tr>\n",
       "  </tbody>\n",
       "</table>\n",
       "<p>8239 rows × 13 columns</p>\n",
       "</div>"
      ],
      "text/plain": [
       "                    Time  Distance_tank3  Distance_tank2  Distance_tank1  \\\n",
       "0    2023-11-09 17:00:00          667.80          667.75           27.03   \n",
       "1    2023-11-09 17:01:00           34.45          667.73           26.58   \n",
       "2    2023-11-09 17:02:00           25.97          667.78          200.36   \n",
       "3    2023-11-09 17:03:00           26.32          667.78          200.81   \n",
       "4    2023-11-09 17:04:00           26.35          667.78          200.72   \n",
       "...                  ...             ...             ...             ...   \n",
       "8234                 NaT             NaN             NaN           27.39   \n",
       "8235                 NaT             NaN             NaN            3.25   \n",
       "8236                 NaT             NaN             NaN             NaN   \n",
       "8237                 NaT             NaN             NaN             NaN   \n",
       "8238                 NaT             NaN             NaN             NaN   \n",
       "\n",
       "      Distance_tank4   Tank1   Tank2  Tank3  Tank4     Level_1    Level_2  \\\n",
       "0              26.17     NaN  667.75  667.8    NaN         NaN -43162.700   \n",
       "1              26.17     NaN  667.73    NaN    NaN         NaN -43161.124   \n",
       "2              26.04  200.36  667.78    NaN    NaN -11751.8464 -43165.064   \n",
       "3              26.04  200.81  667.78    NaN    NaN -11817.6544 -43165.064   \n",
       "4              26.04  200.72  667.78    NaN    NaN -11804.4928 -43165.064   \n",
       "...              ...     ...     ...    ...    ...         ...        ...   \n",
       "8234           26.17     NaN     NaN    NaN    NaN         NaN        NaN   \n",
       "8235           27.58     NaN     NaN    NaN    NaN         NaN        NaN   \n",
       "8236           27.39     NaN     NaN    NaN    NaN         NaN        NaN   \n",
       "8237           27.39     NaN     NaN    NaN    NaN         NaN        NaN   \n",
       "8238            3.25     NaN     NaN    NaN    NaN         NaN        NaN   \n",
       "\n",
       "         Level_3  Level_4  \n",
       "0    -18572.6112      NaN  \n",
       "1            NaN      NaN  \n",
       "2            NaN      NaN  \n",
       "3            NaN      NaN  \n",
       "4            NaN      NaN  \n",
       "...          ...      ...  \n",
       "8234         NaN      NaN  \n",
       "8235         NaN      NaN  \n",
       "8236         NaN      NaN  \n",
       "8237         NaN      NaN  \n",
       "8238         NaN      NaN  \n",
       "\n",
       "[8239 rows x 13 columns]"
      ]
     },
     "execution_count": 193,
     "metadata": {},
     "output_type": "execute_result"
    }
   ],
   "source": [
    "data"
   ]
  },
  {
   "cell_type": "code",
   "execution_count": 194,
   "metadata": {},
   "outputs": [],
   "source": [
    "data=data.replace('--',-1)\n"
   ]
  },
  {
   "cell_type": "code",
   "execution_count": 195,
   "metadata": {},
   "outputs": [],
   "source": [
    "data=data.set_index('Time')\n",
    "data=data.fillna(-1)"
   ]
  },
  {
   "cell_type": "code",
   "execution_count": 196,
   "metadata": {},
   "outputs": [
    {
     "data": {
      "text/html": [
       "<div>\n",
       "<style scoped>\n",
       "    .dataframe tbody tr th:only-of-type {\n",
       "        vertical-align: middle;\n",
       "    }\n",
       "\n",
       "    .dataframe tbody tr th {\n",
       "        vertical-align: top;\n",
       "    }\n",
       "\n",
       "    .dataframe thead th {\n",
       "        text-align: right;\n",
       "    }\n",
       "</style>\n",
       "<table border=\"1\" class=\"dataframe\">\n",
       "  <thead>\n",
       "    <tr style=\"text-align: right;\">\n",
       "      <th></th>\n",
       "      <th>Distance_tank3</th>\n",
       "      <th>Distance_tank2</th>\n",
       "      <th>Distance_tank1</th>\n",
       "      <th>Distance_tank4</th>\n",
       "      <th>Tank1</th>\n",
       "      <th>Tank2</th>\n",
       "      <th>Tank3</th>\n",
       "      <th>Tank4</th>\n",
       "      <th>Level_1</th>\n",
       "      <th>Level_2</th>\n",
       "      <th>Level_3</th>\n",
       "      <th>Level_4</th>\n",
       "    </tr>\n",
       "    <tr>\n",
       "      <th>Time</th>\n",
       "      <th></th>\n",
       "      <th></th>\n",
       "      <th></th>\n",
       "      <th></th>\n",
       "      <th></th>\n",
       "      <th></th>\n",
       "      <th></th>\n",
       "      <th></th>\n",
       "      <th></th>\n",
       "      <th></th>\n",
       "      <th></th>\n",
       "      <th></th>\n",
       "    </tr>\n",
       "  </thead>\n",
       "  <tbody>\n",
       "    <tr>\n",
       "      <th>2023-11-09 17:00:00</th>\n",
       "      <td>667.80</td>\n",
       "      <td>667.75</td>\n",
       "      <td>27.03</td>\n",
       "      <td>26.17</td>\n",
       "      <td>-1.00</td>\n",
       "      <td>667.75</td>\n",
       "      <td>667.8</td>\n",
       "      <td>-1.0</td>\n",
       "      <td>-1.0000</td>\n",
       "      <td>-43162.700</td>\n",
       "      <td>-18572.6112</td>\n",
       "      <td>-1.0</td>\n",
       "    </tr>\n",
       "    <tr>\n",
       "      <th>2023-11-09 17:01:00</th>\n",
       "      <td>34.45</td>\n",
       "      <td>667.73</td>\n",
       "      <td>26.58</td>\n",
       "      <td>26.17</td>\n",
       "      <td>-1.00</td>\n",
       "      <td>667.73</td>\n",
       "      <td>-1.0</td>\n",
       "      <td>-1.0</td>\n",
       "      <td>-1.0000</td>\n",
       "      <td>-43161.124</td>\n",
       "      <td>-1.0000</td>\n",
       "      <td>-1.0</td>\n",
       "    </tr>\n",
       "    <tr>\n",
       "      <th>2023-11-09 17:02:00</th>\n",
       "      <td>25.97</td>\n",
       "      <td>667.78</td>\n",
       "      <td>200.36</td>\n",
       "      <td>26.04</td>\n",
       "      <td>200.36</td>\n",
       "      <td>667.78</td>\n",
       "      <td>-1.0</td>\n",
       "      <td>-1.0</td>\n",
       "      <td>-11751.8464</td>\n",
       "      <td>-43165.064</td>\n",
       "      <td>-1.0000</td>\n",
       "      <td>-1.0</td>\n",
       "    </tr>\n",
       "    <tr>\n",
       "      <th>2023-11-09 17:03:00</th>\n",
       "      <td>26.32</td>\n",
       "      <td>667.78</td>\n",
       "      <td>200.81</td>\n",
       "      <td>26.04</td>\n",
       "      <td>200.81</td>\n",
       "      <td>667.78</td>\n",
       "      <td>-1.0</td>\n",
       "      <td>-1.0</td>\n",
       "      <td>-11817.6544</td>\n",
       "      <td>-43165.064</td>\n",
       "      <td>-1.0000</td>\n",
       "      <td>-1.0</td>\n",
       "    </tr>\n",
       "    <tr>\n",
       "      <th>2023-11-09 17:04:00</th>\n",
       "      <td>26.35</td>\n",
       "      <td>667.78</td>\n",
       "      <td>200.72</td>\n",
       "      <td>26.04</td>\n",
       "      <td>200.72</td>\n",
       "      <td>667.78</td>\n",
       "      <td>-1.0</td>\n",
       "      <td>-1.0</td>\n",
       "      <td>-11804.4928</td>\n",
       "      <td>-43165.064</td>\n",
       "      <td>-1.0000</td>\n",
       "      <td>-1.0</td>\n",
       "    </tr>\n",
       "    <tr>\n",
       "      <th>...</th>\n",
       "      <td>...</td>\n",
       "      <td>...</td>\n",
       "      <td>...</td>\n",
       "      <td>...</td>\n",
       "      <td>...</td>\n",
       "      <td>...</td>\n",
       "      <td>...</td>\n",
       "      <td>...</td>\n",
       "      <td>...</td>\n",
       "      <td>...</td>\n",
       "      <td>...</td>\n",
       "      <td>...</td>\n",
       "    </tr>\n",
       "    <tr>\n",
       "      <th>NaT</th>\n",
       "      <td>-1.00</td>\n",
       "      <td>-1.00</td>\n",
       "      <td>27.39</td>\n",
       "      <td>26.17</td>\n",
       "      <td>-1.00</td>\n",
       "      <td>-1.00</td>\n",
       "      <td>-1.0</td>\n",
       "      <td>-1.0</td>\n",
       "      <td>-1.0000</td>\n",
       "      <td>-1.000</td>\n",
       "      <td>-1.0000</td>\n",
       "      <td>-1.0</td>\n",
       "    </tr>\n",
       "    <tr>\n",
       "      <th>NaT</th>\n",
       "      <td>-1.00</td>\n",
       "      <td>-1.00</td>\n",
       "      <td>3.25</td>\n",
       "      <td>27.58</td>\n",
       "      <td>-1.00</td>\n",
       "      <td>-1.00</td>\n",
       "      <td>-1.0</td>\n",
       "      <td>-1.0</td>\n",
       "      <td>-1.0000</td>\n",
       "      <td>-1.000</td>\n",
       "      <td>-1.0000</td>\n",
       "      <td>-1.0</td>\n",
       "    </tr>\n",
       "    <tr>\n",
       "      <th>NaT</th>\n",
       "      <td>-1.00</td>\n",
       "      <td>-1.00</td>\n",
       "      <td>-1.00</td>\n",
       "      <td>27.39</td>\n",
       "      <td>-1.00</td>\n",
       "      <td>-1.00</td>\n",
       "      <td>-1.0</td>\n",
       "      <td>-1.0</td>\n",
       "      <td>-1.0000</td>\n",
       "      <td>-1.000</td>\n",
       "      <td>-1.0000</td>\n",
       "      <td>-1.0</td>\n",
       "    </tr>\n",
       "    <tr>\n",
       "      <th>NaT</th>\n",
       "      <td>-1.00</td>\n",
       "      <td>-1.00</td>\n",
       "      <td>-1.00</td>\n",
       "      <td>27.39</td>\n",
       "      <td>-1.00</td>\n",
       "      <td>-1.00</td>\n",
       "      <td>-1.0</td>\n",
       "      <td>-1.0</td>\n",
       "      <td>-1.0000</td>\n",
       "      <td>-1.000</td>\n",
       "      <td>-1.0000</td>\n",
       "      <td>-1.0</td>\n",
       "    </tr>\n",
       "    <tr>\n",
       "      <th>NaT</th>\n",
       "      <td>-1.00</td>\n",
       "      <td>-1.00</td>\n",
       "      <td>-1.00</td>\n",
       "      <td>3.25</td>\n",
       "      <td>-1.00</td>\n",
       "      <td>-1.00</td>\n",
       "      <td>-1.0</td>\n",
       "      <td>-1.0</td>\n",
       "      <td>-1.0000</td>\n",
       "      <td>-1.000</td>\n",
       "      <td>-1.0000</td>\n",
       "      <td>-1.0</td>\n",
       "    </tr>\n",
       "  </tbody>\n",
       "</table>\n",
       "<p>8239 rows × 12 columns</p>\n",
       "</div>"
      ],
      "text/plain": [
       "                     Distance_tank3  Distance_tank2  Distance_tank1  \\\n",
       "Time                                                                  \n",
       "2023-11-09 17:00:00          667.80          667.75           27.03   \n",
       "2023-11-09 17:01:00           34.45          667.73           26.58   \n",
       "2023-11-09 17:02:00           25.97          667.78          200.36   \n",
       "2023-11-09 17:03:00           26.32          667.78          200.81   \n",
       "2023-11-09 17:04:00           26.35          667.78          200.72   \n",
       "...                             ...             ...             ...   \n",
       "NaT                           -1.00           -1.00           27.39   \n",
       "NaT                           -1.00           -1.00            3.25   \n",
       "NaT                           -1.00           -1.00           -1.00   \n",
       "NaT                           -1.00           -1.00           -1.00   \n",
       "NaT                           -1.00           -1.00           -1.00   \n",
       "\n",
       "                     Distance_tank4   Tank1   Tank2  Tank3  Tank4     Level_1  \\\n",
       "Time                                                                            \n",
       "2023-11-09 17:00:00           26.17   -1.00  667.75  667.8   -1.0     -1.0000   \n",
       "2023-11-09 17:01:00           26.17   -1.00  667.73   -1.0   -1.0     -1.0000   \n",
       "2023-11-09 17:02:00           26.04  200.36  667.78   -1.0   -1.0 -11751.8464   \n",
       "2023-11-09 17:03:00           26.04  200.81  667.78   -1.0   -1.0 -11817.6544   \n",
       "2023-11-09 17:04:00           26.04  200.72  667.78   -1.0   -1.0 -11804.4928   \n",
       "...                             ...     ...     ...    ...    ...         ...   \n",
       "NaT                           26.17   -1.00   -1.00   -1.0   -1.0     -1.0000   \n",
       "NaT                           27.58   -1.00   -1.00   -1.0   -1.0     -1.0000   \n",
       "NaT                           27.39   -1.00   -1.00   -1.0   -1.0     -1.0000   \n",
       "NaT                           27.39   -1.00   -1.00   -1.0   -1.0     -1.0000   \n",
       "NaT                            3.25   -1.00   -1.00   -1.0   -1.0     -1.0000   \n",
       "\n",
       "                       Level_2     Level_3  Level_4  \n",
       "Time                                                 \n",
       "2023-11-09 17:00:00 -43162.700 -18572.6112     -1.0  \n",
       "2023-11-09 17:01:00 -43161.124     -1.0000     -1.0  \n",
       "2023-11-09 17:02:00 -43165.064     -1.0000     -1.0  \n",
       "2023-11-09 17:03:00 -43165.064     -1.0000     -1.0  \n",
       "2023-11-09 17:04:00 -43165.064     -1.0000     -1.0  \n",
       "...                        ...         ...      ...  \n",
       "NaT                     -1.000     -1.0000     -1.0  \n",
       "NaT                     -1.000     -1.0000     -1.0  \n",
       "NaT                     -1.000     -1.0000     -1.0  \n",
       "NaT                     -1.000     -1.0000     -1.0  \n",
       "NaT                     -1.000     -1.0000     -1.0  \n",
       "\n",
       "[8239 rows x 12 columns]"
      ]
     },
     "execution_count": 196,
     "metadata": {},
     "output_type": "execute_result"
    }
   ],
   "source": [
    "data"
   ]
  },
  {
   "cell_type": "code",
   "execution_count": 197,
   "metadata": {},
   "outputs": [],
   "source": [
    "data=data[data.index.notna()]"
   ]
  },
  {
   "cell_type": "code",
   "execution_count": 201,
   "metadata": {},
   "outputs": [],
   "source": [
    "data_trimmed=data[(data.index.date>datetime.date(2023,11,9))*(data.index.date<datetime.date(2023,11,15))]\n",
    "# data_trimmed=data[(data.index.date==datetime.date(1900,1,2))]"
   ]
  },
  {
   "cell_type": "code",
   "execution_count": 202,
   "metadata": {},
   "outputs": [
    {
     "data": {
      "text/plain": [
       "<Axes: xlabel='Time'>"
      ]
     },
     "execution_count": 202,
     "metadata": {},
     "output_type": "execute_result"
    }
   ],
   "source": [
    "%matplotlib qt\n",
    "import seaborn as sns\n",
    "\n",
    "data_trimmed['Level_4'].plot()"
   ]
  },
  {
   "cell_type": "code",
   "execution_count": 203,
   "metadata": {},
   "outputs": [],
   "source": [
    "slope_data=data_trimmed.diff(10)"
   ]
  },
  {
   "cell_type": "code",
   "execution_count": 204,
   "metadata": {},
   "outputs": [],
   "source": [
    "usage=slope_data['Level_4']\n",
    "# usage=usage[usage<0]"
   ]
  },
  {
   "cell_type": "code",
   "execution_count": 205,
   "metadata": {},
   "outputs": [
    {
     "data": {
      "text/plain": [
       "<Axes: xlabel='Time'>"
      ]
     },
     "execution_count": 205,
     "metadata": {},
     "output_type": "execute_result"
    }
   ],
   "source": [
    "data_trimmed['Level_4'].plot()\n",
    "(-usage).plot()\n",
    "(-usage).diff().plot()"
   ]
  },
  {
   "cell_type": "code",
   "execution_count": 206,
   "metadata": {},
   "outputs": [
    {
     "data": {
      "text/plain": [
       "<Axes: xlabel='Time'>"
      ]
     },
     "execution_count": 206,
     "metadata": {},
     "output_type": "execute_result"
    }
   ],
   "source": [
    "plt.rcParams['font.size']=30\n",
    "(data_trimmed['Level_4']-4900).plot()\n",
    "data_trimmed['Level_3'].plot()\n",
    "# (data_trimmed['Level_2']-2970).plot()"
   ]
  },
  {
   "cell_type": "code",
   "execution_count": 207,
   "metadata": {},
   "outputs": [
    {
     "ename": "KeyError",
     "evalue": "\"None of ['Time'] are in the columns\"",
     "output_type": "error",
     "traceback": [
      "\u001b[1;31m---------------------------------------------------------------------------\u001b[0m",
      "\u001b[1;31mKeyError\u001b[0m                                  Traceback (most recent call last)",
      "\u001b[1;32m~\\AppData\\Local\\Temp\\ipykernel_21412\\4112921019.py\u001b[0m in \u001b[0;36m?\u001b[1;34m()\u001b[0m\n\u001b[1;32m----> 1\u001b[1;33m \u001b[0mdata_trimmed\u001b[0m\u001b[1;33m=\u001b[0m\u001b[0mdata_trimmed\u001b[0m\u001b[1;33m.\u001b[0m\u001b[0mset_index\u001b[0m\u001b[1;33m(\u001b[0m\u001b[1;34m'Time'\u001b[0m\u001b[1;33m)\u001b[0m\u001b[1;33m\u001b[0m\u001b[1;33m\u001b[0m\u001b[0m\n\u001b[0m",
      "\u001b[1;32mc:\\Users\\krish\\Documents\\newchapteroflife\\Tropical_meteorology\\.venv\\lib\\site-packages\\pandas\\core\\frame.py\u001b[0m in \u001b[0;36m?\u001b[1;34m(self, keys, drop, append, inplace, verify_integrity)\u001b[0m\n\u001b[0;32m   5855\u001b[0m                     \u001b[1;32mif\u001b[0m \u001b[1;32mnot\u001b[0m \u001b[0mfound\u001b[0m\u001b[1;33m:\u001b[0m\u001b[1;33m\u001b[0m\u001b[1;33m\u001b[0m\u001b[0m\n\u001b[0;32m   5856\u001b[0m                         \u001b[0mmissing\u001b[0m\u001b[1;33m.\u001b[0m\u001b[0mappend\u001b[0m\u001b[1;33m(\u001b[0m\u001b[0mcol\u001b[0m\u001b[1;33m)\u001b[0m\u001b[1;33m\u001b[0m\u001b[1;33m\u001b[0m\u001b[0m\n\u001b[0;32m   5857\u001b[0m \u001b[1;33m\u001b[0m\u001b[0m\n\u001b[0;32m   5858\u001b[0m         \u001b[1;32mif\u001b[0m \u001b[0mmissing\u001b[0m\u001b[1;33m:\u001b[0m\u001b[1;33m\u001b[0m\u001b[1;33m\u001b[0m\u001b[0m\n\u001b[1;32m-> 5859\u001b[1;33m             \u001b[1;32mraise\u001b[0m \u001b[0mKeyError\u001b[0m\u001b[1;33m(\u001b[0m\u001b[1;34mf\"None of {missing} are in the columns\"\u001b[0m\u001b[1;33m)\u001b[0m\u001b[1;33m\u001b[0m\u001b[1;33m\u001b[0m\u001b[0m\n\u001b[0m\u001b[0;32m   5860\u001b[0m \u001b[1;33m\u001b[0m\u001b[0m\n\u001b[0;32m   5861\u001b[0m         \u001b[1;32mif\u001b[0m \u001b[0minplace\u001b[0m\u001b[1;33m:\u001b[0m\u001b[1;33m\u001b[0m\u001b[1;33m\u001b[0m\u001b[0m\n\u001b[0;32m   5862\u001b[0m             \u001b[0mframe\u001b[0m \u001b[1;33m=\u001b[0m \u001b[0mself\u001b[0m\u001b[1;33m\u001b[0m\u001b[1;33m\u001b[0m\u001b[0m\n",
      "\u001b[1;31mKeyError\u001b[0m: \"None of ['Time'] are in the columns\""
     ]
    }
   ],
   "source": [
    "data_trimmed=data_trimmed.set_index('Time')"
   ]
  },
  {
   "cell_type": "markdown",
   "metadata": {},
   "source": []
  },
  {
   "cell_type": "code",
   "execution_count": 57,
   "metadata": {},
   "outputs": [],
   "source": [
    "import seaborn as sns"
   ]
  },
  {
   "cell_type": "code",
   "execution_count": 208,
   "metadata": {},
   "outputs": [],
   "source": [
    "data_trimmed=data_trimmed.reset_index()"
   ]
  },
  {
   "cell_type": "code",
   "execution_count": 209,
   "metadata": {},
   "outputs": [],
   "source": [
    "data_trimmed.set_index('Time',inplace=True)\n",
    "data_subset=data_trimmed[['Level_3','Level_4']]"
   ]
  },
  {
   "cell_type": "code",
   "execution_count": 210,
   "metadata": {},
   "outputs": [
    {
     "data": {
      "text/plain": [
       "<Axes: xlabel='Time'>"
      ]
     },
     "execution_count": 210,
     "metadata": {},
     "output_type": "execute_result"
    }
   ],
   "source": [
    "data_subset.plot()"
   ]
  },
  {
   "cell_type": "code",
   "execution_count": 211,
   "metadata": {},
   "outputs": [],
   "source": [
    "data_subset=data_subset[np.abs(data_subset-data_subset.mean())<data_subset.std()*2]"
   ]
  },
  {
   "cell_type": "code",
   "execution_count": 214,
   "metadata": {},
   "outputs": [
    {
     "data": {
      "text/plain": [
       "<Axes: xlabel='Time'>"
      ]
     },
     "execution_count": 214,
     "metadata": {},
     "output_type": "execute_result"
    }
   ],
   "source": [
    "data_subset.plot()"
   ]
  },
  {
   "cell_type": "code",
   "execution_count": 215,
   "metadata": {},
   "outputs": [],
   "source": [
    "data_subset=data_subset.rolling(20,center=True).median()"
   ]
  },
  {
   "cell_type": "code",
   "execution_count": 225,
   "metadata": {},
   "outputs": [],
   "source": [
    "data_subset['Level_3_rate']=data_subset['Level_3'].diff(10).rolling(30).mean()/10 # liter per minute\n",
    "data_subset['Level_4_rate']=data_subset['Level_4'].diff(10).rolling(30).mean()/10 # liter per minute"
   ]
  },
  {
   "cell_type": "code",
   "execution_count": 217,
   "metadata": {},
   "outputs": [],
   "source": [
    "from scipy.fft import fft"
   ]
  },
  {
   "cell_type": "code",
   "execution_count": 218,
   "metadata": {},
   "outputs": [],
   "source": [
    "usage=data_subset.diff(10).rolling(30).mean()/10 # liter per minute\n",
    "usage.dropna(inplace=True)\n",
    "usage_w=fft(usage['Level_3'].values)"
   ]
  },
  {
   "cell_type": "code",
   "execution_count": 219,
   "metadata": {},
   "outputs": [],
   "source": [
    "# usage.shape\n"
   ]
  },
  {
   "cell_type": "code",
   "execution_count": 220,
   "metadata": {},
   "outputs": [
    {
     "data": {
      "text/plain": [
       "[<matplotlib.lines.Line2D at 0x127542593f0>]"
      ]
     },
     "execution_count": 220,
     "metadata": {},
     "output_type": "execute_result"
    }
   ],
   "source": [
    "data=usage[usage<0]\n",
    "data.fillna(0,inplace=True)\n",
    "\n",
    "data=data['Level_3'].values\n",
    "ps = np.abs(np.fft.fft(data))**2\n",
    "\n",
    "time_step = 1/1440\n",
    "freqs = np.fft.fftfreq(data.size, time_step)\n",
    "idx = np.argsort(freqs)\n",
    "\n",
    "plt.plot(freqs[idx], ps[idx])"
   ]
  },
  {
   "cell_type": "code",
   "execution_count": 170,
   "metadata": {},
   "outputs": [
    {
     "data": {
      "text/plain": [
       "array([2.97643654, 6.84580405, 8.92930963])"
      ]
     },
     "execution_count": 170,
     "metadata": {},
     "output_type": "execute_result"
    }
   ],
   "source": [
    "from scipy.signal import find_peaks\n",
    "freqs[find_peaks(ps,height=1e7)[0]][freqs[find_peaks(ps,height=1e7)[0]]>0] # usage frequency in times per day"
   ]
  },
  {
   "cell_type": "code",
   "execution_count": 221,
   "metadata": {},
   "outputs": [
    {
     "data": {
      "text/plain": [
       "Level_3    17.285085\n",
       "Level_4    42.612032\n",
       "dtype: float64"
      ]
     },
     "execution_count": 221,
     "metadata": {},
     "output_type": "execute_result"
    }
   ],
   "source": [
    "usage[usage>0].mean() # avaerage pumping rate litres/minute"
   ]
  },
  {
   "cell_type": "code",
   "execution_count": 222,
   "metadata": {},
   "outputs": [
    {
     "data": {
      "text/plain": [
       "Level_3     6.552047\n",
       "Level_4    11.102526\n",
       "dtype: float64"
      ]
     },
     "execution_count": 222,
     "metadata": {},
     "output_type": "execute_result"
    }
   ],
   "source": [
    "-usage[usage<0].mean() # average usage rate litres/minute"
   ]
  },
  {
   "cell_type": "code",
   "execution_count": 223,
   "metadata": {},
   "outputs": [
    {
     "data": {
      "text/plain": [
       "Level_3    47.174735\n",
       "Level_4    79.938190\n",
       "dtype: float64"
      ]
     },
     "execution_count": 223,
     "metadata": {},
     "output_type": "execute_result"
    }
   ],
   "source": [
    "-usage[usage<0].mean()*1440/200 # average usage rate litres/day/head"
   ]
  },
  {
   "cell_type": "code",
   "execution_count": 227,
   "metadata": {},
   "outputs": [
    {
     "data": {
      "text/plain": [
       "<Axes: xlabel='Time'>"
      ]
     },
     "execution_count": 227,
     "metadata": {},
     "output_type": "execute_result"
    }
   ],
   "source": [
    "data_subset.plot()"
   ]
  },
  {
   "cell_type": "code",
   "execution_count": 228,
   "metadata": {},
   "outputs": [],
   "source": [
    "data_subset.to_csv(\"Tank3Tank4_9_11_to_15_11.csv\")"
   ]
  },
  {
   "cell_type": "code",
   "execution_count": 229,
   "metadata": {},
   "outputs": [],
   "source": [
    "data_subset['day']=data_subset.index.day_of_week"
   ]
  },
  {
   "cell_type": "code",
   "execution_count": 237,
   "metadata": {},
   "outputs": [
    {
     "data": {
      "text/html": [
       "<div>\n",
       "<style scoped>\n",
       "    .dataframe tbody tr th:only-of-type {\n",
       "        vertical-align: middle;\n",
       "    }\n",
       "\n",
       "    .dataframe tbody tr th {\n",
       "        vertical-align: top;\n",
       "    }\n",
       "\n",
       "    .dataframe thead th {\n",
       "        text-align: right;\n",
       "    }\n",
       "</style>\n",
       "<table border=\"1\" class=\"dataframe\">\n",
       "  <thead>\n",
       "    <tr style=\"text-align: right;\">\n",
       "      <th></th>\n",
       "      <th>Level_3</th>\n",
       "      <th>Level_4</th>\n",
       "      <th>Level_3_rate</th>\n",
       "      <th>Level_4_rate</th>\n",
       "      <th>day</th>\n",
       "    </tr>\n",
       "    <tr>\n",
       "      <th>Time</th>\n",
       "      <th></th>\n",
       "      <th></th>\n",
       "      <th></th>\n",
       "      <th></th>\n",
       "      <th></th>\n",
       "    </tr>\n",
       "  </thead>\n",
       "  <tbody>\n",
       "    <tr>\n",
       "      <th>2023-11-12 00:00:00</th>\n",
       "      <td>1478.46868</td>\n",
       "      <td>6959.7456</td>\n",
       "      <td>-14.216512</td>\n",
       "      <td>-4.325654</td>\n",
       "      <td>6</td>\n",
       "    </tr>\n",
       "    <tr>\n",
       "      <th>2023-11-12 00:01:00</th>\n",
       "      <td>1467.44988</td>\n",
       "      <td>6948.2886</td>\n",
       "      <td>-14.071855</td>\n",
       "      <td>-4.250971</td>\n",
       "      <td>6</td>\n",
       "    </tr>\n",
       "    <tr>\n",
       "      <th>2023-11-12 00:02:00</th>\n",
       "      <td>1461.09288</td>\n",
       "      <td>6940.1414</td>\n",
       "      <td>-13.900923</td>\n",
       "      <td>-4.227209</td>\n",
       "      <td>6</td>\n",
       "    </tr>\n",
       "    <tr>\n",
       "      <th>2023-11-12 00:03:00</th>\n",
       "      <td>1454.56636</td>\n",
       "      <td>6938.3592</td>\n",
       "      <td>-13.707670</td>\n",
       "      <td>-4.220419</td>\n",
       "      <td>6</td>\n",
       "    </tr>\n",
       "    <tr>\n",
       "      <th>2023-11-12 00:04:00</th>\n",
       "      <td>1441.51332</td>\n",
       "      <td>6928.6844</td>\n",
       "      <td>-13.531651</td>\n",
       "      <td>-4.240787</td>\n",
       "      <td>6</td>\n",
       "    </tr>\n",
       "    <tr>\n",
       "      <th>...</th>\n",
       "      <td>...</td>\n",
       "      <td>...</td>\n",
       "      <td>...</td>\n",
       "      <td>...</td>\n",
       "      <td>...</td>\n",
       "    </tr>\n",
       "    <tr>\n",
       "      <th>2023-11-12 23:55:00</th>\n",
       "      <td>1023.64652</td>\n",
       "      <td>5807.1714</td>\n",
       "      <td>-15.903801</td>\n",
       "      <td>-23.448660</td>\n",
       "      <td>6</td>\n",
       "    </tr>\n",
       "    <tr>\n",
       "      <th>2023-11-12 23:56:00</th>\n",
       "      <td>1007.88116</td>\n",
       "      <td>5789.3494</td>\n",
       "      <td>-15.935728</td>\n",
       "      <td>-23.155021</td>\n",
       "      <td>6</td>\n",
       "    </tr>\n",
       "    <tr>\n",
       "      <th>2023-11-12 23:57:00</th>\n",
       "      <td>990.42060</td>\n",
       "      <td>5768.9814</td>\n",
       "      <td>-15.971892</td>\n",
       "      <td>-22.846955</td>\n",
       "      <td>6</td>\n",
       "    </tr>\n",
       "    <tr>\n",
       "      <th>2023-11-12 23:58:00</th>\n",
       "      <td>967.95920</td>\n",
       "      <td>5749.6318</td>\n",
       "      <td>-16.038005</td>\n",
       "      <td>-22.587263</td>\n",
       "      <td>6</td>\n",
       "    </tr>\n",
       "    <tr>\n",
       "      <th>2023-11-12 23:59:00</th>\n",
       "      <td>952.27860</td>\n",
       "      <td>5723.6626</td>\n",
       "      <td>-16.094229</td>\n",
       "      <td>-22.356426</td>\n",
       "      <td>6</td>\n",
       "    </tr>\n",
       "  </tbody>\n",
       "</table>\n",
       "<p>1440 rows × 5 columns</p>\n",
       "</div>"
      ],
      "text/plain": [
       "                        Level_3    Level_4  Level_3_rate  Level_4_rate  day\n",
       "Time                                                                       \n",
       "2023-11-12 00:00:00  1478.46868  6959.7456    -14.216512     -4.325654    6\n",
       "2023-11-12 00:01:00  1467.44988  6948.2886    -14.071855     -4.250971    6\n",
       "2023-11-12 00:02:00  1461.09288  6940.1414    -13.900923     -4.227209    6\n",
       "2023-11-12 00:03:00  1454.56636  6938.3592    -13.707670     -4.220419    6\n",
       "2023-11-12 00:04:00  1441.51332  6928.6844    -13.531651     -4.240787    6\n",
       "...                         ...        ...           ...           ...  ...\n",
       "2023-11-12 23:55:00  1023.64652  5807.1714    -15.903801    -23.448660    6\n",
       "2023-11-12 23:56:00  1007.88116  5789.3494    -15.935728    -23.155021    6\n",
       "2023-11-12 23:57:00   990.42060  5768.9814    -15.971892    -22.846955    6\n",
       "2023-11-12 23:58:00   967.95920  5749.6318    -16.038005    -22.587263    6\n",
       "2023-11-12 23:59:00   952.27860  5723.6626    -16.094229    -22.356426    6\n",
       "\n",
       "[1440 rows x 5 columns]"
      ]
     },
     "execution_count": 237,
     "metadata": {},
     "output_type": "execute_result"
    }
   ],
   "source": [
    "data_subset[data_subset['day']==6] # 0 is monday, 6 is sunday"
   ]
  },
  {
   "cell_type": "code",
   "execution_count": 238,
   "metadata": {},
   "outputs": [],
   "source": [
    "# Usage for weekdays"
   ]
  },
  {
   "cell_type": "code",
   "execution_count": 267,
   "metadata": {},
   "outputs": [
    {
     "name": "stdout",
     "output_type": "stream",
     "text": [
      "Average usage rate in weekdays: nan\n"
     ]
    },
    {
     "data": {
      "text/plain": [
       "<Axes: xlabel='Time'>"
      ]
     },
     "execution_count": 267,
     "metadata": {},
     "output_type": "execute_result"
    }
   ],
   "source": [
    "weekday_data=data_subset[data_subset['day']<5]\n",
    "usage1=weekday_data['Level_4_rate']\n",
    "usage1=-usage1[usage1<0]*1440/200\n",
    "print(\"Average usage rate in weekdays:\",-usage1[usage1<0].mean())\n",
    "usage1.groupby(usage1.index.hour//6).mean().plot()"
   ]
  },
  {
   "cell_type": "code",
   "execution_count": 268,
   "metadata": {},
   "outputs": [
    {
     "name": "stdout",
     "output_type": "stream",
     "text": [
      "Average usage rate in weekdays: nan\n"
     ]
    },
    {
     "data": {
      "text/plain": [
       "<Axes: xlabel='Time'>"
      ]
     },
     "execution_count": 268,
     "metadata": {},
     "output_type": "execute_result"
    }
   ],
   "source": [
    "weekday_data=data_subset[data_subset['day']>=5]\n",
    "usage2=weekday_data['Level_4_rate']\n",
    "usage2=-usage2[usage2<0]*1440/200\n",
    "print(\"Average usage rate in weekdays:\",-usage2[usage2<0].mean())\n",
    "usage2.groupby(usage2.index.hour//6).mean().plot()"
   ]
  },
  {
   "cell_type": "markdown",
   "metadata": {},
   "source": [
    "## Weekend weekdays usage"
   ]
  },
  {
   "cell_type": "code",
   "execution_count": 294,
   "metadata": {},
   "outputs": [
    {
     "data": {
      "text/plain": [
       "<matplotlib.legend.Legend at 0x12780b63e80>"
      ]
     },
     "execution_count": 294,
     "metadata": {},
     "output_type": "execute_result"
    }
   ],
   "source": [
    "(usage2/(24/6)).groupby(usage2.index.hour//6).mean().plot(label=\"Weekends\",linewidth=10,color='blue',marker='o',markersize=30)\n",
    "(usage1/(24/6)).groupby(usage1.index.hour//6).mean().plot(label=\"Weekdays\",linewidth=10,color='red',marker='o',markersize=30)\n",
    "plt.xticks(ticks=[0,1,2,3],labels=[\"0-6\",\"6-12\",\"12-18\",\"18-24\"])\n",
    "plt.legend()\n"
   ]
  },
  {
   "cell_type": "code",
   "execution_count": null,
   "metadata": {},
   "outputs": [],
   "source": []
  }
 ],
 "metadata": {
  "kernelspec": {
   "display_name": ".venv",
   "language": "python",
   "name": "python3"
  },
  "language_info": {
   "codemirror_mode": {
    "name": "ipython",
    "version": 3
   },
   "file_extension": ".py",
   "mimetype": "text/x-python",
   "name": "python",
   "nbconvert_exporter": "python",
   "pygments_lexer": "ipython3",
   "version": "3.10.5"
  }
 },
 "nbformat": 4,
 "nbformat_minor": 2
}
