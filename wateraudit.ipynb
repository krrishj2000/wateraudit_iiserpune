{
 "cells": [
  {
   "cell_type": "code",
   "execution_count": 2,
   "metadata": {},
   "outputs": [],
   "source": [
    "import pandas as pd\n",
    "import matplotlib.pyplot as plt\n",
    "import datetime as dt\n",
    "import numpy as np"
   ]
  },
  {
   "cell_type": "code",
   "execution_count": 7,
   "metadata": {},
   "outputs": [],
   "source": [
    "data=pd.read_csv(r\"C:\\Users\\krish\\Documents\\tank4_data.txt\",header=0,delimiter='\\t')"
   ]
  },
  {
   "cell_type": "code",
   "execution_count": 8,
   "metadata": {},
   "outputs": [
    {
     "data": {
      "text/plain": [
       "0       09-11-2023 17:00\n",
       "1       09-11-2023 17:01\n",
       "2       09-11-2023 17:02\n",
       "3       09-11-2023 17:03\n",
       "4       09-11-2023 17:04\n",
       "              ...       \n",
       "8234                 NaN\n",
       "8235                 NaN\n",
       "8236                 NaN\n",
       "8237                 NaN\n",
       "8238                 NaN\n",
       "Name: Time, Length: 8239, dtype: object"
      ]
     },
     "execution_count": 8,
     "metadata": {},
     "output_type": "execute_result"
    }
   ],
   "source": [
    "data['Time']"
   ]
  },
  {
   "cell_type": "code",
   "execution_count": 9,
   "metadata": {},
   "outputs": [],
   "source": [
    "data['Time']=pd.to_datetime(data['Time'],format=r\"%d-%m-%Y %H:%M\")"
   ]
  },
  {
   "cell_type": "code",
   "execution_count": 10,
   "metadata": {},
   "outputs": [],
   "source": [
    "data_cleaned=data.dropna()\n",
    "data_cleaned=data_cleaned[data_cleaned['Time'].dt.date>dt.date(2023,11,9)]\n",
    "data_cleaned=data_cleaned[data_cleaned['Time'].dt.date<dt.date(2023,11,15)]"
   ]
  },
  {
   "cell_type": "code",
   "execution_count": 11,
   "metadata": {},
   "outputs": [
    {
     "data": {
      "text/html": [
       "<div>\n",
       "<style scoped>\n",
       "    .dataframe tbody tr th:only-of-type {\n",
       "        vertical-align: middle;\n",
       "    }\n",
       "\n",
       "    .dataframe tbody tr th {\n",
       "        vertical-align: top;\n",
       "    }\n",
       "\n",
       "    .dataframe thead th {\n",
       "        text-align: right;\n",
       "    }\n",
       "</style>\n",
       "<table border=\"1\" class=\"dataframe\">\n",
       "  <thead>\n",
       "    <tr style=\"text-align: right;\">\n",
       "      <th></th>\n",
       "      <th>Time</th>\n",
       "      <th>Slope</th>\n",
       "    </tr>\n",
       "  </thead>\n",
       "  <tbody>\n",
       "    <tr>\n",
       "      <th>421</th>\n",
       "      <td>2023-11-10 00:00:00</td>\n",
       "      <td>-0.10223</td>\n",
       "    </tr>\n",
       "    <tr>\n",
       "      <th>422</th>\n",
       "      <td>2023-11-10 00:01:00</td>\n",
       "      <td>-0.11905</td>\n",
       "    </tr>\n",
       "    <tr>\n",
       "      <th>423</th>\n",
       "      <td>2023-11-10 00:02:00</td>\n",
       "      <td>-0.12721</td>\n",
       "    </tr>\n",
       "    <tr>\n",
       "      <th>424</th>\n",
       "      <td>2023-11-10 00:03:00</td>\n",
       "      <td>-0.15067</td>\n",
       "    </tr>\n",
       "    <tr>\n",
       "      <th>425</th>\n",
       "      <td>2023-11-10 00:04:00</td>\n",
       "      <td>-0.16597</td>\n",
       "    </tr>\n",
       "    <tr>\n",
       "      <th>...</th>\n",
       "      <td>...</td>\n",
       "      <td>...</td>\n",
       "    </tr>\n",
       "    <tr>\n",
       "      <th>7616</th>\n",
       "      <td>2023-11-14 23:55:00</td>\n",
       "      <td>-0.13735</td>\n",
       "    </tr>\n",
       "    <tr>\n",
       "      <th>7617</th>\n",
       "      <td>2023-11-14 23:56:00</td>\n",
       "      <td>-0.13077</td>\n",
       "    </tr>\n",
       "    <tr>\n",
       "      <th>7618</th>\n",
       "      <td>2023-11-14 23:57:00</td>\n",
       "      <td>-0.13908</td>\n",
       "    </tr>\n",
       "    <tr>\n",
       "      <th>7619</th>\n",
       "      <td>2023-11-14 23:58:00</td>\n",
       "      <td>-0.13419</td>\n",
       "    </tr>\n",
       "    <tr>\n",
       "      <th>7620</th>\n",
       "      <td>2023-11-14 23:59:00</td>\n",
       "      <td>-0.11648</td>\n",
       "    </tr>\n",
       "  </tbody>\n",
       "</table>\n",
       "<p>7200 rows × 2 columns</p>\n",
       "</div>"
      ],
      "text/plain": [
       "                    Time     Slope\n",
       "421  2023-11-10 00:00:00  -0.10223\n",
       "422  2023-11-10 00:01:00  -0.11905\n",
       "423  2023-11-10 00:02:00  -0.12721\n",
       "424  2023-11-10 00:03:00  -0.15067\n",
       "425  2023-11-10 00:04:00  -0.16597\n",
       "...                  ...       ...\n",
       "7616 2023-11-14 23:55:00  -0.13735\n",
       "7617 2023-11-14 23:56:00  -0.13077\n",
       "7618 2023-11-14 23:57:00  -0.13908\n",
       "7619 2023-11-14 23:58:00  -0.13419\n",
       "7620 2023-11-14 23:59:00  -0.11648\n",
       "\n",
       "[7200 rows x 2 columns]"
      ]
     },
     "execution_count": 11,
     "metadata": {},
     "output_type": "execute_result"
    }
   ],
   "source": [
    "data_cleaned"
   ]
  },
  {
   "cell_type": "code",
   "execution_count": 12,
   "metadata": {},
   "outputs": [],
   "source": [
    "data_cleaned['Slope']=data_cleaned['Slope'].replace(\"--\",np.nan)\n",
    "data_cleaned['Slope']=data_cleaned['Slope'].astype(float)"
   ]
  },
  {
   "cell_type": "code",
   "execution_count": 13,
   "metadata": {},
   "outputs": [],
   "source": [
    "data_cleaned=data_cleaned.dropna()"
   ]
  },
  {
   "cell_type": "code",
   "execution_count": 16,
   "metadata": {},
   "outputs": [
    {
     "data": {
      "text/plain": [
       "<Axes: >"
      ]
     },
     "execution_count": 16,
     "metadata": {},
     "output_type": "execute_result"
    }
   ],
   "source": [
    "%matplotlib qt\n",
    "# data_cleaned.Slope.hist(bins=np.arange(0,0.5,0.001))\n",
    "data_cleaned.Slope.plot()"
   ]
  },
  {
   "cell_type": "code",
   "execution_count": 19,
   "metadata": {},
   "outputs": [],
   "source": [
    "usage_data=data_cleaned[data_cleaned['Slope']<-0.1]"
   ]
  },
  {
   "cell_type": "code",
   "execution_count": 20,
   "metadata": {},
   "outputs": [
    {
     "data": {
      "text/plain": [
       "count    3341.000000\n",
       "mean       -0.178349\n",
       "std         0.072684\n",
       "min        -1.323070\n",
       "25%        -0.209460\n",
       "50%        -0.162260\n",
       "75%        -0.128920\n",
       "max        -0.100060\n",
       "Name: Slope, dtype: float64"
      ]
     },
     "execution_count": 20,
     "metadata": {},
     "output_type": "execute_result"
    }
   ],
   "source": [
    "usage_data.Slope.describe()"
   ]
  },
  {
   "cell_type": "code",
   "execution_count": 21,
   "metadata": {},
   "outputs": [
    {
     "data": {
      "text/plain": [
       "-0.17834946123914994"
      ]
     },
     "execution_count": 21,
     "metadata": {},
     "output_type": "execute_result"
    }
   ],
   "source": [
    "usage_data.Slope.mean()"
   ]
  },
  {
   "cell_type": "code",
   "execution_count": 22,
   "metadata": {},
   "outputs": [
    {
     "data": {
      "text/plain": [
       "([<matplotlib.axis.XTick at 0x272bf18c880>,\n",
       "  <matplotlib.axis.XTick at 0x272bf18c850>,\n",
       "  <matplotlib.axis.XTick at 0x272bf18c460>,\n",
       "  <matplotlib.axis.XTick at 0x272bf1c3880>,\n",
       "  <matplotlib.axis.XTick at 0x272bf13c520>,\n",
       "  <matplotlib.axis.XTick at 0x272c8b6c490>,\n",
       "  <matplotlib.axis.XTick at 0x272c8b6cf40>,\n",
       "  <matplotlib.axis.XTick at 0x272c8b6d9f0>,\n",
       "  <matplotlib.axis.XTick at 0x272c8b6e4a0>,\n",
       "  <matplotlib.axis.XTick at 0x272c8b6d240>,\n",
       "  <matplotlib.axis.XTick at 0x272c8b6eec0>,\n",
       "  <matplotlib.axis.XTick at 0x272c8b6f970>,\n",
       "  <matplotlib.axis.XTick at 0x272c8b88460>,\n",
       "  <matplotlib.axis.XTick at 0x272c8b88f10>,\n",
       "  <matplotlib.axis.XTick at 0x272c8b6eb30>,\n",
       "  <matplotlib.axis.XTick at 0x272c8b897b0>,\n",
       "  <matplotlib.axis.XTick at 0x272c8b8a260>,\n",
       "  <matplotlib.axis.XTick at 0x272c8b8ad10>,\n",
       "  <matplotlib.axis.XTick at 0x272c8b6f130>,\n",
       "  <matplotlib.axis.XTick at 0x272c8b8b610>,\n",
       "  <matplotlib.axis.XTick at 0x272c8b8bd60>,\n",
       "  <matplotlib.axis.XTick at 0x272c8ba4bb0>,\n",
       "  <matplotlib.axis.XTick at 0x272c8ba5660>,\n",
       "  <matplotlib.axis.XTick at 0x272c8b8b820>,\n",
       "  <matplotlib.axis.XTick at 0x272c8ba6080>],\n",
       " [Text(0, 0, '0'),\n",
       "  Text(1, 0, '1'),\n",
       "  Text(2, 0, '2'),\n",
       "  Text(3, 0, '3'),\n",
       "  Text(4, 0, '4'),\n",
       "  Text(5, 0, '5'),\n",
       "  Text(6, 0, '6'),\n",
       "  Text(7, 0, '7'),\n",
       "  Text(8, 0, '8'),\n",
       "  Text(9, 0, '9'),\n",
       "  Text(10, 0, '10'),\n",
       "  Text(11, 0, '11'),\n",
       "  Text(12, 0, '12'),\n",
       "  Text(13, 0, '13'),\n",
       "  Text(14, 0, '14'),\n",
       "  Text(15, 0, '15'),\n",
       "  Text(16, 0, '16'),\n",
       "  Text(17, 0, '17'),\n",
       "  Text(18, 0, '18'),\n",
       "  Text(19, 0, '19'),\n",
       "  Text(20, 0, '20'),\n",
       "  Text(21, 0, '21'),\n",
       "  Text(22, 0, '22'),\n",
       "  Text(23, 0, '23'),\n",
       "  Text(24, 0, '24')])"
      ]
     },
     "execution_count": 22,
     "metadata": {},
     "output_type": "execute_result"
    }
   ],
   "source": [
    "usage_data.Time.dt.hour.hist(bins=-0.5+np.arange(25))\n",
    "plt.xticks(np.arange(25))"
   ]
  },
  {
   "cell_type": "code",
   "execution_count": 23,
   "metadata": {},
   "outputs": [],
   "source": [
    "pumping_data=data_cleaned[data_cleaned['Slope']>0.3]"
   ]
  },
  {
   "cell_type": "code",
   "execution_count": 24,
   "metadata": {},
   "outputs": [
    {
     "data": {
      "text/plain": [
       "count    667.000000\n",
       "mean       1.105584\n",
       "std        0.516811\n",
       "min        0.301380\n",
       "25%        0.686880\n",
       "50%        1.026450\n",
       "75%        1.466945\n",
       "max        2.752610\n",
       "Name: Slope, dtype: float64"
      ]
     },
     "execution_count": 24,
     "metadata": {},
     "output_type": "execute_result"
    }
   ],
   "source": [
    "pumping_data.Slope.describe()"
   ]
  },
  {
   "cell_type": "code",
   "execution_count": 25,
   "metadata": {},
   "outputs": [],
   "source": [
    "q1_usage=usage_data[(usage_data.Time.dt.hour>0)*(usage_data.Time.dt.hour<=6)]\n",
    "q2_usage=usage_data[(usage_data.Time.dt.hour>6)*(usage_data.Time.dt.hour<=12)]\n",
    "q3_usage=usage_data[(usage_data.Time.dt.hour>12)*(usage_data.Time.dt.hour<=18)]\n",
    "q4_usage=usage_data[(usage_data.Time.dt.hour>18)*(usage_data.Time.dt.hour<=24)]"
   ]
  },
  {
   "cell_type": "code",
   "execution_count": 26,
   "metadata": {},
   "outputs": [
    {
     "name": "stdout",
     "output_type": "stream",
     "text": [
      "-0.1592855809859155\n",
      "-0.19789363395225465\n",
      "-0.17547771186440678\n",
      "-0.16880369047619045\n"
     ]
    }
   ],
   "source": [
    "q1_usage=usage_data[(usage_data.Time.dt.hour>0)*(usage_data.Time.dt.hour<=6)]\n",
    "q2_usage=usage_data[(usage_data.Time.dt.hour>6)*(usage_data.Time.dt.hour<=12)]\n",
    "q3_usage=usage_data[(usage_data.Time.dt.hour>12)*(usage_data.Time.dt.hour<=18)]\n",
    "q4_usage=usage_data[(usage_data.Time.dt.hour>18)*(usage_data.Time.dt.hour<=24)]\n",
    "\n",
    "print(q1_usage.Slope.mean())\n",
    "print(q2_usage.Slope.mean())\n",
    "print(q3_usage.Slope.mean())\n",
    "print(q4_usage.Slope.mean())"
   ]
  },
  {
   "cell_type": "code",
   "execution_count": 27,
   "metadata": {},
   "outputs": [],
   "source": [
    "# 10,13,14 workingdays\n",
    "# 11,12 weekends\n",
    "weekend_usage_data=usage_data[usage_data.Time.dt.day.isin([11,12])]\n",
    "weekday_usage_data=usage_data[usage_data.Time.dt.day.isin([10,13,14])]"
   ]
  },
  {
   "cell_type": "code",
   "execution_count": 28,
   "metadata": {},
   "outputs": [
    {
     "data": {
      "text/plain": [
       "count    1030.000000\n",
       "mean       -0.152462\n",
       "std         0.046022\n",
       "min        -0.542180\n",
       "25%        -0.174212\n",
       "50%        -0.140920\n",
       "75%        -0.118483\n",
       "max        -0.100060\n",
       "Name: Slope, dtype: float64"
      ]
     },
     "execution_count": 28,
     "metadata": {},
     "output_type": "execute_result"
    }
   ],
   "source": [
    "weekend_usage_data.Slope.describe()"
   ]
  },
  {
   "cell_type": "code",
   "execution_count": 29,
   "metadata": {},
   "outputs": [
    {
     "data": {
      "text/plain": [
       "count    2311.000000\n",
       "mean       -0.189887\n",
       "std         0.079139\n",
       "min        -1.323070\n",
       "25%        -0.223055\n",
       "50%        -0.173770\n",
       "75%        -0.136355\n",
       "max        -0.100120\n",
       "Name: Slope, dtype: float64"
      ]
     },
     "execution_count": 29,
     "metadata": {},
     "output_type": "execute_result"
    }
   ],
   "source": [
    "weekday_usage_data.Slope.describe()"
   ]
  },
  {
   "cell_type": "code",
   "execution_count": 30,
   "metadata": {},
   "outputs": [
    {
     "name": "stdout",
     "output_type": "stream",
     "text": [
      "-0.16582931330472103\n",
      "-0.21436956643356642\n",
      "-0.19103692647058826\n",
      "-0.1774944411764706\n"
     ]
    }
   ],
   "source": [
    "q1_usage=weekday_usage_data[(weekday_usage_data.Time.dt.hour>0)*(weekday_usage_data.Time.dt.hour<=6)]\n",
    "q2_usage=weekday_usage_data[(weekday_usage_data.Time.dt.hour>6)*(weekday_usage_data.Time.dt.hour<=12)]\n",
    "q3_usage=weekday_usage_data[(weekday_usage_data.Time.dt.hour>12)*(weekday_usage_data.Time.dt.hour<=18)]\n",
    "q4_usage=weekday_usage_data[(weekday_usage_data.Time.dt.hour>18)*(weekday_usage_data.Time.dt.hour<=24)]\n",
    "\n",
    "print(q1_usage.Slope.mean())\n",
    "print(q2_usage.Slope.mean())\n",
    "print(q3_usage.Slope.mean())\n",
    "print(q4_usage.Slope.mean())"
   ]
  },
  {
   "cell_type": "code",
   "execution_count": 31,
   "metadata": {},
   "outputs": [
    {
     "name": "stdout",
     "output_type": "stream",
     "text": [
      "-0.12938970588235296\n",
      "-0.16957562499999998\n",
      "-0.14778068062827227\n",
      "-0.131868\n"
     ]
    }
   ],
   "source": [
    "q1_usage=weekend_usage_data[(weekend_usage_data.Time.dt.hour>0)*(weekend_usage_data.Time.dt.hour<=6)]\n",
    "q2_usage=weekend_usage_data[(weekend_usage_data.Time.dt.hour>6)*(weekend_usage_data.Time.dt.hour<=12)]\n",
    "q3_usage=weekend_usage_data[(weekend_usage_data.Time.dt.hour>12)*(weekend_usage_data.Time.dt.hour<=18)]\n",
    "q4_usage=weekend_usage_data[(weekend_usage_data.Time.dt.hour>18)*(weekend_usage_data.Time.dt.hour<=24)]\n",
    "\n",
    "print(q1_usage.Slope.mean())\n",
    "print(q2_usage.Slope.mean())\n",
    "print(q3_usage.Slope.mean())\n",
    "print(q4_usage.Slope.mean())"
   ]
  },
  {
   "cell_type": "code",
   "execution_count": 37,
   "metadata": {},
   "outputs": [
    {
     "data": {
      "text/plain": [
       "<Axes: xlabel='Time'>"
      ]
     },
     "execution_count": 37,
     "metadata": {},
     "output_type": "execute_result"
    }
   ],
   "source": [
    "weekend_usage_data.groupby(usage_data.Time.dt.hour).Slope.mean().plot()\n",
    "usage_data.groupby(usage_data.Time.dt.hour).Slope.mean().plot()\n",
    "weekday_usage_data.groupby(usage_data.Time.dt.hour).Slope.mean().plot()"
   ]
  },
  {
   "cell_type": "code",
   "execution_count": null,
   "metadata": {},
   "outputs": [],
   "source": []
  }
 ],
 "metadata": {
  "kernelspec": {
   "display_name": ".venv",
   "language": "python",
   "name": "python3"
  },
  "language_info": {
   "codemirror_mode": {
    "name": "ipython",
    "version": 3
   },
   "file_extension": ".py",
   "mimetype": "text/x-python",
   "name": "python",
   "nbconvert_exporter": "python",
   "pygments_lexer": "ipython3",
   "version": "3.10.5"
  }
 },
 "nbformat": 4,
 "nbformat_minor": 2
}
